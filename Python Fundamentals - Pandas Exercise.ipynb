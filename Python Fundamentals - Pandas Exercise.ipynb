{
 "cells": [
  {
   "cell_type": "markdown",
   "metadata": {
    "id": "abeWoYYMXVdd"
   },
   "source": [
    "# Pandas Exercise Solutions"
   ]
  },
  {
   "cell_type": "markdown",
   "metadata": {
    "id": "2JszvFZIXVde"
   },
   "source": [
    "### Exercise 1\n",
    "Import Pandas and create a series with the following data:\n",
    "- Create a list \"numbers\" with six numbers: 2, 5, 18, 7, 21, 9\n",
    "- Create a list \"markers\" with six strings: a, b, c, d, e, f\n",
    "- Apply the list \"numbers\" to a series and use \"markers\" as index "
   ]
  },
  {
   "cell_type": "code",
   "execution_count": null,
   "metadata": {
    "colab": {
     "base_uri": "https://localhost:8080/"
    },
    "executionInfo": {
     "elapsed": 665,
     "status": "ok",
     "timestamp": 1612061998152,
     "user": {
      "displayName": "Lester Leong",
      "photoUrl": "https://lh3.googleusercontent.com/a-/AOh14GhESsAP_U-p-CX8EsBjBg4EszjEo6Qb0zr-LMf14g=s64",
      "userId": "17427307644910609596"
     },
     "user_tz": 360
    },
    "id": "5wpLfpY_XVdf",
    "outputId": "213306aa-07ab-495c-d210-7363da1e947a"
   },
   "outputs": [],
   "source": []
  },
  {
   "cell_type": "markdown",
   "metadata": {
    "id": "ANQCq3FkXVdg"
   },
   "source": [
    "### Exercise 2\n",
    "Import the data in \"Retail_Sales.csv\"  to a dataframe called \"retail_df1\", and print the following:\n",
    "- Check how many rows and columns are in this dataframe\n",
    "- Show the summary statistics of the retail_df dataframe\n",
    "- Show the first 5 rows of the dataframe\n",
    "- Show the unique values in the \"Product Type\" column"
   ]
  },
  {
   "cell_type": "code",
   "execution_count": null,
   "metadata": {
    "id": "XnfVdsWVXVdg"
   },
   "outputs": [],
   "source": []
  },
  {
   "cell_type": "markdown",
   "metadata": {
    "id": "HrkEIYVUXVdh"
   },
   "source": [
    "### Exercise 3\n",
    "- Import the csv file \"Retail_Sales_2.csv\" to the dataframe \"retail_df2\"\n",
    "- Combine \"retail_df1\" and \"retail_df2\" into a new dataframe \"retail_df\". Make sure the join them side by side\n",
    "- Show the first 5 rows of the new dataframe"
   ]
  },
  {
   "cell_type": "code",
   "execution_count": null,
   "metadata": {
    "id": "8kJY87QTXVdi",
    "outputId": "2521d025-ab02-4728-85d1-69ca5cd5299f"
   },
   "outputs": [],
   "source": []
  },
  {
   "cell_type": "markdown",
   "metadata": {
    "id": "JPHBfc7yXVdi"
   },
   "source": [
    "### Exercise 4\n",
    "- Add a column \"Price Per Unit\" which is the Total Net Sales divided by the Net Quantity\n",
    "- Remove the column \"Discounts\" from the dataframe\n",
    "- View the first 5 rows after the changes"
   ]
  },
  {
   "cell_type": "code",
   "execution_count": null,
   "metadata": {
    "id": "XaGqAbEDXVdi",
    "outputId": "bf336924-9bbc-46e7-bd49-8cbc9dbb401e",
    "scrolled": true
   },
   "outputs": [],
   "source": []
  },
  {
   "cell_type": "markdown",
   "metadata": {
    "id": "oja8e-HWXVdi"
   },
   "source": [
    "### Exercise 5\n",
    "- Show all the rows when the Net Quantity is larger than 50\n",
    "- Show all the rows when the Product Type is Jewelry"
   ]
  },
  {
   "cell_type": "code",
   "execution_count": null,
   "metadata": {
    "id": "1-B7ic05XVdj",
    "outputId": "d7a643a6-f7d9-4766-fab6-582ebf565c3e"
   },
   "outputs": [],
   "source": []
  },
  {
   "cell_type": "markdown",
   "metadata": {
    "id": "IaIFk_TYXVdj"
   },
   "source": [
    "### Exercise 6\n",
    "- Gather the average values grouped by Product Type\n",
    "- Show the summary statistics grouped by Product Type"
   ]
  },
  {
   "cell_type": "code",
   "execution_count": null,
   "metadata": {
    "id": "itOVAakhXVdj",
    "outputId": "45a2c388-43c9-44e6-f3a6-e0b9b7ef9805"
   },
   "outputs": [],
   "source": []
  }
 ],
 "metadata": {
  "colab": {
   "collapsed_sections": [],
   "name": "Python Fundamentals - Pandas Exercise Solutions.ipynb",
   "provenance": []
  },
  "kernelspec": {
   "display_name": "Python 3",
   "language": "python",
   "name": "python3"
  },
  "language_info": {
   "codemirror_mode": {
    "name": "ipython",
    "version": 3
   },
   "file_extension": ".py",
   "mimetype": "text/x-python",
   "name": "python",
   "nbconvert_exporter": "python",
   "pygments_lexer": "ipython3",
   "version": "3.7.3"
  }
 },
 "nbformat": 4,
 "nbformat_minor": 1
}
